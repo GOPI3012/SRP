name = input("Enter your name: ")  
print(f"Hello, {name}!")  
num = int(input("Enter a number: "))  
print(f"The square of {num} is {num**2}")  
